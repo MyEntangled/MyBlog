{
 "cells": [
  {
   "cell_type": "code",
   "execution_count": 1,
   "metadata": {},
   "outputs": [],
   "source": [
    "import numpy as np\n",
    "from math import sqrt"
   ]
  },
  {
   "cell_type": "code",
   "execution_count": 2,
   "metadata": {},
   "outputs": [],
   "source": [
    "def getTensor(matrices):\n",
    "    product = matrices[0]\n",
    "    for matrix in matrices[1:]:\n",
    "        product = np.kron(product,matrix)  ## np.kron stands for Kronecker product, the official name for tensor product\n",
    "    return product"
   ]
  },
  {
   "cell_type": "code",
   "execution_count": 3,
   "metadata": {},
   "outputs": [],
   "source": [
    "def U(n, f_map):\n",
    "    \"\"\"Generate an oracle matrix based on the given function mapping.\"\"\"\n",
    "    # INSPIRED BY https://github.com/meownoid/quantum-python/blob/master/quantum.py\n",
    "    \n",
    "    num_qubits = n + 1\n",
    "    U = np.zeros((2**num_qubits, 2**num_qubits)) # Start with a matrix of zeroes.\n",
    "    \n",
    "    # Quantum state looks like IN-IN-...-IN-ANCILLA\n",
    "    for input_state in range(2**num_qubits): # For each possible input\n",
    "        input_string = input_state >> 1 # remove ANCILLA\n",
    "        output_qubit = (input_state & 1) ^ (f_map[input_string]) # remove IN, XOR with f(IN)\n",
    "        output_state = (input_string << 1) + output_qubit # the full state, with new OUT\n",
    "        U[input_state, output_state] = 1 # set that part of U to 1\n",
    "\n",
    "    return U"
   ]
  },
  {
   "cell_type": "code",
   "execution_count": 4,
   "metadata": {},
   "outputs": [],
   "source": [
    "def measure(n, state):\n",
    "    measurement = np.zeros(2**n)  # Initialize measurement result for n qubits in the first register\n",
    "    for index, value in enumerate(state):\n",
    "        measurement[index >> 1] += value * value  ## As the ancilla qubit is discarded, probabilities of the same kind, ie 100 and 101 will be combined\n",
    "\n",
    "    # Last step: Determine the type of function f\n",
    "    # f is constant if the probability of measuring |0> is positive\n",
    "    if (abs(measurement[0]) > 1e-10): \n",
    "        print(\"The function is constant.\")\n",
    "    else:\n",
    "        print(\"The function is balanced.\")"
   ]
  },
  {
   "cell_type": "code",
   "execution_count": 5,
   "metadata": {},
   "outputs": [],
   "source": [
    "def Deutsch_Jozsa(n, f_map):\n",
    "    num_qubits = n + 1  # Plus one qubit and the second register, can be called as ancilla qubit\n",
    "    state_0 = np.array([[1],[0]])  # Standard state |0> as a column vector\n",
    "    I_gate = np.array([[1,0], [0,1]])  # Identity gate\n",
    "    X_gate = np.array([[0,1], [1,0]])  # NOT gate\n",
    "    H_gate = np.array([[1,1], [1,-1]])/sqrt(2)  # Hadamard gate\n",
    "    \n",
    "    ancilla = np.dot(X_gate, state_0)  # Create state |1> assigned to the ancilla\n",
    "    \n",
    "    # Create the a Hadamard transformation for all qubits and the state |ψ_0> \n",
    "    listStates = []\n",
    "    listGates_H = []\n",
    "    for i in range(n):\n",
    "        listStates.append(state_0)\n",
    "        listGates_H.append(H_gate)\n",
    "    listStates.append(ancilla)\n",
    "    listGates_H.append(H_gate)\n",
    "    psi_0 = getTensor(listStates)\n",
    "    composite_H = getTensor(listGates_H)\n",
    "    \n",
    "    # |ψ_1> is the dot product of the Hadamard transformation and |ψ_0>  \n",
    "    psi_1 = np.dot(composite_H, psi_0)\n",
    "\n",
    "    # Apply the oracle to |ψ_1>\n",
    "    psi_2 = np.dot(U(n, f_map), psi_1)\n",
    "\n",
    "    # H on all again\n",
    "    psi_3 = np.dot(composite_H, psi_2)\n",
    "\n",
    "    measure(n, psi_3)"
   ]
  },
  {
   "cell_type": "code",
   "execution_count": 6,
   "metadata": {},
   "outputs": [],
   "source": [
    "def main():\n",
    "    n = [2,3,3]  # Input the number of qubits\n",
    "    f_map = [[0,0,1,1],\n",
    "             [1,1,1,1,1,1,1,1],\n",
    "             [1,0,0,1,1,0,1,0]]  # Input the mapping functions\n",
    "    for index, value in enumerate(n):\n",
    "        Deutsch_Jozsa(n[index], f_map[index])  # Algorithm executed here"
   ]
  },
  {
   "cell_type": "code",
   "execution_count": 7,
   "metadata": {},
   "outputs": [
    {
     "name": "stdout",
     "output_type": "stream",
     "text": [
      "The function is balanced.\n",
      "The function is constant.\n",
      "The function is balanced.\n"
     ]
    }
   ],
   "source": [
    "main()"
   ]
  }
 ],
 "metadata": {
  "kernelspec": {
   "display_name": "Python 3",
   "language": "python",
   "name": "python3"
  },
  "language_info": {
   "codemirror_mode": {
    "name": "ipython",
    "version": 3
   },
   "file_extension": ".py",
   "mimetype": "text/x-python",
   "name": "python",
   "nbconvert_exporter": "python",
   "pygments_lexer": "ipython3",
   "version": "3.6.5"
  }
 },
 "nbformat": 4,
 "nbformat_minor": 2
}
