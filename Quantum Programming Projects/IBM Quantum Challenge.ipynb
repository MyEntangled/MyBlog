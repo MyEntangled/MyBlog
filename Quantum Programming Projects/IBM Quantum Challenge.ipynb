{
 "cells": [
  {
   "cell_type": "code",
   "execution_count": 1,
   "metadata": {},
   "outputs": [],
   "source": [
    "import numpy as np\n",
    "import matplotlib.pyplot as plt\n",
    "%matplotlib inline\n",
    "\n",
    "# importing Qiskit\n",
    "from qiskit import BasicAer, IBMQ\n",
    "from qiskit import QuantumCircuit, ClassicalRegister, QuantumRegister, execute\n",
    "from qiskit.tools.monitor import job_monitor\n",
    "from qiskit import Aer\n",
    "\n",
    "# import basic plot tools\n",
    "from qiskit.tools.visualization import plot_histogram"
   ]
  },
  {
   "cell_type": "code",
   "execution_count": 2,
   "metadata": {},
   "outputs": [],
   "source": [
    "IBMQ.load_accounts()"
   ]
  },
  {
   "cell_type": "code",
   "execution_count": 3,
   "metadata": {},
   "outputs": [],
   "source": [
    "def runSimulation(circ):\n",
    "    # use local simulator\n",
    "    backend = BasicAer.get_backend('qasm_simulator', backend_options={\"fusion_enable\":True})\n",
    "    shots = 1024\n",
    "    job = execute(circ, backend=backend, shots=shots)\n",
    "    job_monitor(job)\n",
    "    result = job.result()\n",
    "    answer = result.get_counts()\n",
    "    #plot_histogram(answer)\n",
    "    return answer"
   ]
  },
  {
   "cell_type": "code",
   "execution_count": 4,
   "metadata": {},
   "outputs": [],
   "source": [
    "# Adjacency list\n",
    "edges = [[0,1],[0,2],[0,3],[0,7],\n",
    "         [1,3],[1,4],[1,8],\n",
    "         [2,3],[2,5],[2,6],[2,9],\n",
    "         [3,4],[3,5],[3,6],[3,7],\n",
    "         [4,6],[4,8],\n",
    "         [5,6],[5,10],\n",
    "         [6,10],\n",
    "         [9,10]]\n",
    "# The number of the currently used classical line\n",
    "c_output = 0\n",
    "\n",
    "# Parameters values\n",
    "vertices = 11\n",
    "n = 2*vertices\n",
    "\n",
    "# Index of specific qubits\n",
    "check_1 = n\n",
    "check_2 = n+1\n",
    "output_1 = n+2\n",
    "output_2 = n+3\n",
    "output_3 = n+4"
   ]
  },
  {
   "cell_type": "code",
   "execution_count": 19,
   "metadata": {},
   "outputs": [],
   "source": [
    "def initCircuit():\n",
    "    circ = QuantumCircuit(qr)\n",
    "    \n",
    "    for i in range(n-4*2):\n",
    "        circ.h(qr[i])\n",
    "    \n",
    "    ## Fix color for district 7-10 (A,B,C,D)\n",
    "    circ.x(qr[8*2])\n",
    "    circ.x(qr[9*2+1])\n",
    "    circ.x(qr[10*2])\n",
    "    circ.x(qr[10*2+1])\n",
    "        \n",
    "    circ.x(qr[output_2])\n",
    "    circ.x(qr[output_3])\n",
    "    circ.barrier()    \n",
    "    \n",
    "    return circ"
   ]
  },
  {
   "cell_type": "code",
   "execution_count": 13,
   "metadata": {},
   "outputs": [],
   "source": [
    "def checkColor(head, tail):\n",
    "    \n",
    "    circ.cx(qr[head*2],qr[check_1])\n",
    "    circ.cx(qr[tail*2],qr[check_1])\n",
    "    \n",
    "    circ.cx(qr[head*2+1],qr[check_2])\n",
    "    circ.cx(qr[tail*2+1],qr[check_2])\n",
    "    \n",
    "    circ.x(qr[check_1])\n",
    "    circ.x(qr[check_2])\n",
    "    circ.ccx(qr[check_1],qr[check_2],qr[output_1])\n",
    "    ### SAU BƯỚC TRÊN EM NGHĨ MÌNH PHẢI UNCOMPUTE CHECK_1 VÀ CHECK_2\n",
    "    \n",
    "    circ.x(qr[output_3])\n",
    "    circ.cx(qr[output_3], qr[output_2])\n",
    "    circ.x(qr[output_3])\n",
    "    \n",
    "    circ.ccx(qr[output_1],qr[output_2],qr[output_3])\n",
    "    circ.barrier()"
   ]
  },
  {
   "cell_type": "code",
   "execution_count": 10,
   "metadata": {},
   "outputs": [],
   "source": [
    "def GroverOracle():\n",
    "    for edge in edges:\n",
    "        checkColor(edge[0], edge[1])"
   ]
  },
  {
   "cell_type": "code",
   "execution_count": 20,
   "metadata": {},
   "outputs": [],
   "source": [
    "qr = QuantumRegister(n+5)\n",
    "#cr = ClassicalRegister(n+5)\n",
    "circ = initCircuit()\n",
    "GroverOracle()"
   ]
  },
  {
   "cell_type": "code",
   "execution_count": 22,
   "metadata": {
    "scrolled": false
   },
   "outputs": [],
   "source": [
    "#circ.draw(output='mpl')"
   ]
  }
 ],
 "metadata": {
  "kernelspec": {
   "display_name": "Python 3",
   "language": "python",
   "name": "python3"
  },
  "language_info": {
   "codemirror_mode": {
    "name": "ipython",
    "version": 3
   },
   "file_extension": ".py",
   "mimetype": "text/x-python",
   "name": "python",
   "nbconvert_exporter": "python",
   "pygments_lexer": "ipython3",
   "version": "3.6.5"
  }
 },
 "nbformat": 4,
 "nbformat_minor": 2
}
